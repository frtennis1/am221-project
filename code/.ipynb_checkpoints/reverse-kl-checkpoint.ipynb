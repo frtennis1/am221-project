{
 "cells": [
  {
   "cell_type": "code",
   "execution_count": 129,
   "metadata": {},
   "outputs": [],
   "source": [
    "import ot\n",
    "import numpy as np\n",
    "from scipy.misc import logsumexp\n",
    "from numpy import diag\n",
    "from matplotlib import pyplot as plt\n",
    "%matplotlib inline\n",
    "def softmax(X, theta = 1.0, axis = None):\n",
    "    \"\"\"\n",
    "    Compute the softmax of each element along an axis of X.\n",
    "    \n",
    "    https://nolanbconaway.github.io/blog/2017/softmax-numpy\n",
    "    \n",
    "    Parameters\n",
    "    ----------\n",
    "    X: ND-Array. Probably should be floats. \n",
    "    theta (optional): float parameter, used as a multiplier\n",
    "        prior to exponentiation. Default = 1.0\n",
    "    axis (optional): axis to compute values along. Default is the \n",
    "        first non-singleton axis.\n",
    "\n",
    "    Returns an array the same size as X. The result will sum to 1\n",
    "    along the specified axis.\n",
    "    \"\"\"\n",
    "\n",
    "    # make X at least 2d\n",
    "    y = np.atleast_2d(X)\n",
    "\n",
    "    # find axis\n",
    "    if axis is None:\n",
    "        axis = next(j[0] for j in enumerate(y.shape) if j[1] > 1)\n",
    "\n",
    "    # multiply y against the theta parameter, \n",
    "    y = y * float(theta)\n",
    "\n",
    "    # subtract the max for numerical stability\n",
    "    y = y - np.expand_dims(np.max(y, axis = axis), axis)\n",
    "    \n",
    "    # exponentiate y\n",
    "    y = np.exp(y)\n",
    "\n",
    "    # take the sum along the specified axis\n",
    "    ax_sum = np.expand_dims(np.sum(y, axis = axis), axis)\n",
    "\n",
    "    # finally: divide elementwise\n",
    "    p = y / ax_sum\n",
    "\n",
    "    # flatten if X was 1D\n",
    "    if len(X.shape) == 1: p = p.flatten()\n",
    "\n",
    "    return p\n",
    "np.set_printoptions(suppress=True)"
   ]
  },
  {
   "cell_type": "code",
   "execution_count": 249,
   "metadata": {},
   "outputs": [],
   "source": [
    "n, m = 5, 3\n",
    "a = np.random.randn(n) ** 2\n",
    "b = np.random.randn(m) ** 2\n",
    "a /= np.sum(a)\n",
    "b /= np.sum(b)\n",
    "C = np.random.randn(n,m) ** 2\n",
    "eps = .008\n",
    "logK = -C/eps - logsumexp(-C/eps)"
   ]
  },
  {
   "cell_type": "code",
   "execution_count": 250,
   "metadata": {},
   "outputs": [],
   "source": [
    "def logP_denom(x):\n",
    "    f, g = x[:n], x[-m:]  \n",
    "    F, G = np.meshgrid(f,g)\n",
    "    return logsumexp(np.array([F.T, G.T]), axis=0)"
   ]
  },
  {
   "cell_type": "code",
   "execution_count": 251,
   "metadata": {},
   "outputs": [],
   "source": [
    "def logP(x):\n",
    "    return logK - logP_denom(x)"
   ]
  },
  {
   "cell_type": "code",
   "execution_count": 252,
   "metadata": {},
   "outputs": [],
   "source": [
    "def objective(x):\n",
    "    lp = logP(x)\n",
    "    loga_approx = logsumexp(lp, axis=1)\n",
    "    logb_approx = logsumexp(lp, axis=0)\n",
    "    res = np.zeros(n+m)\n",
    "    res[:n] = loga_approx - np.log(a)\n",
    "    res[-m:] = logb_approx - np.log(b)\n",
    "    return res"
   ]
  },
  {
   "cell_type": "code",
   "execution_count": 280,
   "metadata": {},
   "outputs": [],
   "source": [
    "def jacobian(x):\n",
    "    f, g = x[:n], x[-m:]\n",
    "    lp = logP(x)\n",
    "    lpd = logP_denom(x)\n",
    "    mat1 = -(np.exp(-lpd) * softmax(lp, axis=1))\n",
    "    mat2 = -(np.exp(-lpd) * softmax(lp, axis=0))\n",
    "\n",
    "    diag_topleft = mat1.sum(axis=1) * np.exp(f)\n",
    "    diag_bottomright = mat2.sum(axis=0) * np.exp(g)\n",
    "    topright = mat1 * np.exp(g).reshape((1, -1))\n",
    "    bottomleft = mat2.T * np.exp(f).reshape((1, -1))\n",
    "    mat = np.zeros((n+m,n+m))\n",
    "    mat[:n, :n] = diag(diag_topleft)\n",
    "    mat[-m:,-m:] = diag(diag_bottomright)\n",
    "    mat[:n,-m:] = topright\n",
    "    mat[-m:,:n] = bottomleft\n",
    "    return mat"
   ]
  },
  {
   "cell_type": "code",
   "execution_count": 283,
   "metadata": {},
   "outputs": [
    {
     "name": "stderr",
     "output_type": "stream",
     "text": [
      "/Users/jiafengchen/anaconda3/lib/python3.6/site-packages/ipykernel_launcher.py:5: RuntimeWarning: divide by zero encountered in log\n",
      "  \"\"\"\n",
      "/Users/jiafengchen/anaconda3/lib/python3.6/site-packages/ipykernel_launcher.py:6: RuntimeWarning: divide by zero encountered in log\n",
      "  \n"
     ]
    },
    {
     "data": {
      "text/plain": [
       "array([[-0.5       ,  0.        ,  0.        ,  0.        ,  0.        ,\n",
       "        -0.        , -0.31990166, -0.18009834],\n",
       "       [ 0.        , -0.5       ,  0.        ,  0.        ,  0.        ,\n",
       "        -0.5       , -0.        , -0.        ],\n",
       "       [ 0.        ,  0.        , -0.5       ,  0.        ,  0.        ,\n",
       "        -0.        , -0.5       , -0.        ],\n",
       "       [ 0.        ,  0.        ,  0.        , -0.5       ,  0.        ,\n",
       "        -0.5       , -0.        , -0.        ],\n",
       "       [ 0.        ,  0.        ,  0.        ,  0.        , -0.5       ,\n",
       "        -0.        , -0.        , -0.5       ],\n",
       "       [-0.        , -0.        , -0.        , -0.5       , -0.        ,\n",
       "        -0.5       ,  0.        ,  0.        ],\n",
       "       [-0.0003624 , -0.        , -0.4996376 , -0.        , -0.        ,\n",
       "         0.        , -0.5       ,  0.        ],\n",
       "       [-0.5       , -0.        , -0.        , -0.        , -0.        ,\n",
       "         0.        ,  0.        , -0.5       ]])"
      ]
     },
     "execution_count": 283,
     "metadata": {},
     "output_type": "execute_result"
    }
   ],
   "source": [
    "jacobian(2*np.ones(n+m))"
   ]
  },
  {
   "cell_type": "code",
   "execution_count": 258,
   "metadata": {},
   "outputs": [],
   "source": [
    "from scipy.optimize import root"
   ]
  },
  {
   "cell_type": "code",
   "execution_count": 275,
   "metadata": {},
   "outputs": [
    {
     "name": "stderr",
     "output_type": "stream",
     "text": [
      "/Users/jiafengchen/anaconda3/lib/python3.6/site-packages/scipy/optimize/nonlin.py:997: RuntimeWarning: divide by zero encountered in true_divide\n",
      "  d = v / vdot(df, v)\n",
      "/Users/jiafengchen/anaconda3/lib/python3.6/site-packages/scipy/optimize/nonlin.py:773: RuntimeWarning: invalid value encountered in multiply\n",
      "  self.collapsed += c[:,None] * d[None,:].conj()\n"
     ]
    }
   ],
   "source": [
    "x = root(objective, np.zeros(n+m), method='broyden1', options={'maxiter':10000})"
   ]
  },
  {
   "cell_type": "code",
   "execution_count": 276,
   "metadata": {},
   "outputs": [
    {
     "data": {
      "text/plain": [
       "     fun: array([0.08557765, 1.19575378, 0.09421833, 0.6013561 , 0.26803618,\n",
       "       1.07060389, 0.66082049, 0.23697122])\n",
       " message: 'The maximum number of iterations allowed has been reached.'\n",
       "     nit: 10000\n",
       "  status: 2\n",
       " success: False\n",
       "       x: array([    6.16327988, -4946.7608444 ,     0.5544297 ,    -1.5675161 ,\n",
       "         -49.6751576 ,   -45.42825984,  -293.25931274,   -81.84100837])"
      ]
     },
     "execution_count": 276,
     "metadata": {},
     "output_type": "execute_result"
    }
   ],
   "source": [
    "x"
   ]
  },
  {
   "cell_type": "code",
   "execution_count": 243,
   "metadata": {},
   "outputs": [
    {
     "data": {
      "text/plain": [
       "array([ 0.23880676, -1.20644008, -0.85793487, -0.04807661,  0.03877309,\n",
       "       -0.02004364,  2.08878107, -0.25699723])"
      ]
     },
     "execution_count": 243,
     "metadata": {},
     "output_type": "execute_result"
    }
   ],
   "source": [
    "objective(x)"
   ]
  },
  {
   "cell_type": "code",
   "execution_count": 211,
   "metadata": {},
   "outputs": [],
   "source": [
    "x = -0 * np.ones(n+m)"
   ]
  },
  {
   "cell_type": "code",
   "execution_count": 212,
   "metadata": {},
   "outputs": [
    {
     "data": {
      "text/plain": [
       "array([[0.5       , 0.        , 0.        , 0.        , 0.        ,\n",
       "        0.00042096, 0.49957522, 0.00000382],\n",
       "       [0.        , 0.5       , 0.        , 0.        , 0.        ,\n",
       "        0.40433949, 0.08311928, 0.01254123],\n",
       "       [0.        , 0.        , 0.5       , 0.        , 0.        ,\n",
       "        0.        , 0.00441246, 0.49558754],\n",
       "       [0.        , 0.        , 0.        , 0.5       , 0.        ,\n",
       "        0.00033498, 0.00000005, 0.49966498],\n",
       "       [0.        , 0.        , 0.        , 0.        , 0.5       ,\n",
       "        0.09283233, 0.40696524, 0.00020243],\n",
       "       [0.00000572, 0.3903818 , 0.        , 0.00015387, 0.10945862,\n",
       "        0.5       , 0.        , 0.        ],\n",
       "       [0.00594716, 0.07034967, 0.00304926, 0.00000002, 0.42065389,\n",
       "        0.        , 0.5       , 0.        ],\n",
       "       [0.00000004, 0.00957125, 0.30881754, 0.18142249, 0.00018868,\n",
       "        0.        , 0.        , 0.5       ]])"
      ]
     },
     "execution_count": 212,
     "metadata": {},
     "output_type": "execute_result"
    }
   ],
   "source": [
    "jacobian(x)"
   ]
  },
  {
   "cell_type": "code",
   "execution_count": 213,
   "metadata": {},
   "outputs": [],
   "source": [
    "dx = np.linalg.solve(jacobian(x), -objective(x))"
   ]
  },
  {
   "cell_type": "code",
   "execution_count": 214,
   "metadata": {},
   "outputs": [
    {
     "data": {
      "text/plain": [
       "array([ 3.22325669e+17,  3.22325669e+17,  3.22325669e+17,  3.22325669e+17,\n",
       "        3.22325669e+17, -3.22325669e+17, -3.22325669e+17, -3.22325669e+17])"
      ]
     },
     "execution_count": 214,
     "metadata": {},
     "output_type": "execute_result"
    }
   ],
   "source": [
    "dx"
   ]
  },
  {
   "cell_type": "code",
   "execution_count": 207,
   "metadata": {},
   "outputs": [
    {
     "data": {
      "text/plain": [
       "array([ 539.81139137,  539.81139137,  539.81139137,  539.81139137,\n",
       "        539.81139137, -541.81139137, -541.81139137, -541.81139137])"
      ]
     },
     "execution_count": 207,
     "metadata": {},
     "output_type": "execute_result"
    }
   ],
   "source": [
    "x+dx"
   ]
  },
  {
   "cell_type": "code",
   "execution_count": 205,
   "metadata": {},
   "outputs": [
    {
     "data": {
      "text/plain": [
       "array([1., 1., 1., 1., 1., 0., 0., 0.])"
      ]
     },
     "execution_count": 205,
     "metadata": {},
     "output_type": "execute_result"
    }
   ],
   "source": [
    "(jacobian(x+dx))"
   ]
  },
  {
   "cell_type": "code",
   "execution_count": 203,
   "metadata": {},
   "outputs": [
    {
     "ename": "LinAlgError",
     "evalue": "Singular matrix",
     "output_type": "error",
     "traceback": [
      "\u001b[0;31m---------------------------------------------------------------------------\u001b[0m",
      "\u001b[0;31mLinAlgError\u001b[0m                               Traceback (most recent call last)",
      "\u001b[0;32m<ipython-input-203-a2d07eb686d0>\u001b[0m in \u001b[0;36m<module>\u001b[0;34m()\u001b[0m\n\u001b[0;32m----> 1\u001b[0;31m \u001b[0mnp\u001b[0m\u001b[0;34m.\u001b[0m\u001b[0mlinalg\u001b[0m\u001b[0;34m.\u001b[0m\u001b[0msolve\u001b[0m\u001b[0;34m(\u001b[0m\u001b[0mjacobian\u001b[0m\u001b[0;34m(\u001b[0m\u001b[0mx\u001b[0m\u001b[0;34m+\u001b[0m\u001b[0mdx\u001b[0m\u001b[0;34m)\u001b[0m\u001b[0;34m,\u001b[0m \u001b[0;34m-\u001b[0m\u001b[0mobjective\u001b[0m\u001b[0;34m(\u001b[0m\u001b[0mx\u001b[0m\u001b[0;34m+\u001b[0m\u001b[0mdx\u001b[0m\u001b[0;34m)\u001b[0m\u001b[0;34m)\u001b[0m\u001b[0;34m\u001b[0m\u001b[0m\n\u001b[0m",
      "\u001b[0;32m~/anaconda3/lib/python3.6/site-packages/numpy/linalg/linalg.py\u001b[0m in \u001b[0;36msolve\u001b[0;34m(a, b)\u001b[0m\n\u001b[1;32m    388\u001b[0m     \u001b[0msignature\u001b[0m \u001b[0;34m=\u001b[0m \u001b[0;34m'DD->D'\u001b[0m \u001b[0;32mif\u001b[0m \u001b[0misComplexType\u001b[0m\u001b[0;34m(\u001b[0m\u001b[0mt\u001b[0m\u001b[0;34m)\u001b[0m \u001b[0;32melse\u001b[0m \u001b[0;34m'dd->d'\u001b[0m\u001b[0;34m\u001b[0m\u001b[0m\n\u001b[1;32m    389\u001b[0m     \u001b[0mextobj\u001b[0m \u001b[0;34m=\u001b[0m \u001b[0mget_linalg_error_extobj\u001b[0m\u001b[0;34m(\u001b[0m\u001b[0m_raise_linalgerror_singular\u001b[0m\u001b[0;34m)\u001b[0m\u001b[0;34m\u001b[0m\u001b[0m\n\u001b[0;32m--> 390\u001b[0;31m     \u001b[0mr\u001b[0m \u001b[0;34m=\u001b[0m \u001b[0mgufunc\u001b[0m\u001b[0;34m(\u001b[0m\u001b[0ma\u001b[0m\u001b[0;34m,\u001b[0m \u001b[0mb\u001b[0m\u001b[0;34m,\u001b[0m \u001b[0msignature\u001b[0m\u001b[0;34m=\u001b[0m\u001b[0msignature\u001b[0m\u001b[0;34m,\u001b[0m \u001b[0mextobj\u001b[0m\u001b[0;34m=\u001b[0m\u001b[0mextobj\u001b[0m\u001b[0;34m)\u001b[0m\u001b[0;34m\u001b[0m\u001b[0m\n\u001b[0m\u001b[1;32m    391\u001b[0m \u001b[0;34m\u001b[0m\u001b[0m\n\u001b[1;32m    392\u001b[0m     \u001b[0;32mreturn\u001b[0m \u001b[0mwrap\u001b[0m\u001b[0;34m(\u001b[0m\u001b[0mr\u001b[0m\u001b[0;34m.\u001b[0m\u001b[0mastype\u001b[0m\u001b[0;34m(\u001b[0m\u001b[0mresult_t\u001b[0m\u001b[0;34m,\u001b[0m \u001b[0mcopy\u001b[0m\u001b[0;34m=\u001b[0m\u001b[0;32mFalse\u001b[0m\u001b[0;34m)\u001b[0m\u001b[0;34m)\u001b[0m\u001b[0;34m\u001b[0m\u001b[0m\n",
      "\u001b[0;32m~/anaconda3/lib/python3.6/site-packages/numpy/linalg/linalg.py\u001b[0m in \u001b[0;36m_raise_linalgerror_singular\u001b[0;34m(err, flag)\u001b[0m\n\u001b[1;32m     87\u001b[0m \u001b[0;34m\u001b[0m\u001b[0m\n\u001b[1;32m     88\u001b[0m \u001b[0;32mdef\u001b[0m \u001b[0m_raise_linalgerror_singular\u001b[0m\u001b[0;34m(\u001b[0m\u001b[0merr\u001b[0m\u001b[0;34m,\u001b[0m \u001b[0mflag\u001b[0m\u001b[0;34m)\u001b[0m\u001b[0;34m:\u001b[0m\u001b[0;34m\u001b[0m\u001b[0m\n\u001b[0;32m---> 89\u001b[0;31m     \u001b[0;32mraise\u001b[0m \u001b[0mLinAlgError\u001b[0m\u001b[0;34m(\u001b[0m\u001b[0;34m\"Singular matrix\"\u001b[0m\u001b[0;34m)\u001b[0m\u001b[0;34m\u001b[0m\u001b[0m\n\u001b[0m\u001b[1;32m     90\u001b[0m \u001b[0;34m\u001b[0m\u001b[0m\n\u001b[1;32m     91\u001b[0m \u001b[0;32mdef\u001b[0m \u001b[0m_raise_linalgerror_nonposdef\u001b[0m\u001b[0;34m(\u001b[0m\u001b[0merr\u001b[0m\u001b[0;34m,\u001b[0m \u001b[0mflag\u001b[0m\u001b[0;34m)\u001b[0m\u001b[0;34m:\u001b[0m\u001b[0;34m\u001b[0m\u001b[0m\n",
      "\u001b[0;31mLinAlgError\u001b[0m: Singular matrix"
     ]
    }
   ],
   "source": [
    "np.linalg.solve(jacobian(x+dx), -objective(x+dx))"
   ]
  },
  {
   "cell_type": "code",
   "execution_count": 151,
   "metadata": {},
   "outputs": [
    {
     "name": "stderr",
     "output_type": "stream",
     "text": [
      "/Users/jiafengchen/anaconda3/lib/python3.6/site-packages/ipykernel_launcher.py:9: RuntimeWarning: overflow encountered in exp\n",
      "  if __name__ == '__main__':\n",
      "/Users/jiafengchen/anaconda3/lib/python3.6/site-packages/ipykernel_launcher.py:9: RuntimeWarning: invalid value encountered in multiply\n",
      "  if __name__ == '__main__':\n",
      "/Users/jiafengchen/anaconda3/lib/python3.6/site-packages/ipykernel_launcher.py:10: RuntimeWarning: overflow encountered in exp\n",
      "  # Remove the CWD from sys.path while we load stuff.\n",
      "/Users/jiafengchen/anaconda3/lib/python3.6/site-packages/ipykernel_launcher.py:10: RuntimeWarning: invalid value encountered in multiply\n",
      "  # Remove the CWD from sys.path while we load stuff.\n"
     ]
    },
    {
     "data": {
      "text/plain": [
       "array([[ 0.,  0.,  0.,  0.,  0., nan, nan, nan],\n",
       "       [ 0.,  0.,  0.,  0.,  0., nan, nan, nan],\n",
       "       [ 0.,  0.,  0.,  0.,  0., nan, nan, nan],\n",
       "       [ 0.,  0.,  0.,  0.,  0., nan, nan, nan],\n",
       "       [ 0.,  0.,  0.,  0.,  0., nan, nan, nan],\n",
       "       [-0., -0., -0., -0., -0., nan,  0.,  0.],\n",
       "       [-0., -0., -0., -0., -0.,  0., nan,  0.],\n",
       "       [-0., -0., -0., -0., -0.,  0.,  0., nan]])"
      ]
     },
     "execution_count": 151,
     "metadata": {},
     "output_type": "execute_result"
    }
   ],
   "source": [
    "jacobian(x)"
   ]
  },
  {
   "cell_type": "code",
   "execution_count": 149,
   "metadata": {},
   "outputs": [],
   "source": [
    "x = x + dx"
   ]
  },
  {
   "cell_type": "code",
   "execution_count": 145,
   "metadata": {},
   "outputs": [
    {
     "data": {
      "text/plain": [
       "-6.474386093120484e-27"
      ]
     },
     "execution_count": 145,
     "metadata": {},
     "output_type": "execute_result"
    }
   ],
   "source": [
    "np.linalg.det(jacobian(x))"
   ]
  },
  {
   "cell_type": "code",
   "execution_count": 141,
   "metadata": {},
   "outputs": [
    {
     "data": {
      "text/plain": [
       "array([11.31279005,  3.85305757,  9.06054946,  1.98226362, -1.81014375,\n",
       "        6.61403922,  3.4122517 ,  8.2851075 ])"
      ]
     },
     "execution_count": 141,
     "metadata": {},
     "output_type": "execute_result"
    }
   ],
   "source": [
    "-objective(x)"
   ]
  },
  {
   "cell_type": "code",
   "execution_count": 55,
   "metadata": {},
   "outputs": [],
   "source": [
    "x = np.array([1,2,3,4,5,6,7,8])"
   ]
  },
  {
   "cell_type": "code",
   "execution_count": 56,
   "metadata": {},
   "outputs": [],
   "source": [
    "f, g = x[:n], x[-m:]"
   ]
  },
  {
   "cell_type": "code",
   "execution_count": 71,
   "metadata": {},
   "outputs": [
    {
     "data": {
      "text/plain": [
       "array([[6.00671535, 6.01814993, 6.04858735, 6.12692801, 6.31326169],\n",
       "       [7.00247569, 7.00671535, 7.01814993, 7.04858735, 7.12692801],\n",
       "       [8.00091147, 8.00247569, 8.00671535, 8.01814993, 8.04858735]])"
      ]
     },
     "execution_count": 71,
     "metadata": {},
     "output_type": "execute_result"
    }
   ],
   "source": [
    "logsumexp(np.array(np.meshgrid(f,g)), axis=0)"
   ]
  },
  {
   "cell_type": "code",
   "execution_count": 74,
   "metadata": {},
   "outputs": [
    {
     "ename": "AttributeError",
     "evalue": "'list' object has no attribute 'T'",
     "output_type": "error",
     "traceback": [
      "\u001b[0;31m---------------------------------------------------------------------------\u001b[0m",
      "\u001b[0;31mAttributeError\u001b[0m                            Traceback (most recent call last)",
      "\u001b[0;32m<ipython-input-74-2907afd00df7>\u001b[0m in \u001b[0;36m<module>\u001b[0;34m()\u001b[0m\n\u001b[0;32m----> 1\u001b[0;31m \u001b[0mnp\u001b[0m\u001b[0;34m.\u001b[0m\u001b[0marray\u001b[0m\u001b[0;34m(\u001b[0m\u001b[0mnp\u001b[0m\u001b[0;34m.\u001b[0m\u001b[0mmeshgrid\u001b[0m\u001b[0;34m(\u001b[0m\u001b[0mf\u001b[0m\u001b[0;34m,\u001b[0m\u001b[0mg\u001b[0m\u001b[0;34m)\u001b[0m\u001b[0;34m.\u001b[0m\u001b[0mT\u001b[0m\u001b[0;34m)\u001b[0m\u001b[0;34m\u001b[0m\u001b[0m\n\u001b[0m",
      "\u001b[0;31mAttributeError\u001b[0m: 'list' object has no attribute 'T'"
     ]
    }
   ],
   "source": [
    "np.array(np.meshgrid(f,g))"
   ]
  },
  {
   "cell_type": "code",
   "execution_count": null,
   "metadata": {},
   "outputs": [],
   "source": [
    "\"\""
   ]
  }
 ],
 "metadata": {
  "kernelspec": {
   "display_name": "Python 3",
   "language": "python",
   "name": "python3"
  },
  "language_info": {
   "codemirror_mode": {
    "name": "ipython",
    "version": 3
   },
   "file_extension": ".py",
   "mimetype": "text/x-python",
   "name": "python",
   "nbconvert_exporter": "python",
   "pygments_lexer": "ipython3",
   "version": "3.6.3"
  }
 },
 "nbformat": 4,
 "nbformat_minor": 2
}
