{
 "cells": [
  {
   "cell_type": "code",
   "execution_count": 160,
   "metadata": {},
   "outputs": [],
   "source": [
    "import numpy as np\n",
    "from IPython.display import clear_output\n",
    "from tqdm import tqdm_notebook as tqdm\n",
    "from matplotlib import pyplot as plt\n",
    "import seaborn as sns\n",
    "import time"
   ]
  },
  {
   "cell_type": "code",
   "execution_count": 138,
   "metadata": {},
   "outputs": [],
   "source": [
    "def dist(A, a, b):\n",
    "    return (np.abs(A.sum(axis=1) - a)).sum() + np.abs(A.sum(axis=0)-b).sum()"
   ]
  },
  {
   "cell_type": "code",
   "execution_count": 110,
   "metadata": {},
   "outputs": [],
   "source": [
    "def potential(A, x, y, a, b):\n",
    "    return (np.diag(np.exp(x)) @ A @ np.diag(np.exp(y))).sum() - a @ x - b @ y"
   ]
  },
  {
   "cell_type": "code",
   "execution_count": 163,
   "metadata": {},
   "outputs": [],
   "source": [
    "def sinkhorn(A, a, b, epsilon):\n",
    "    k = 0\n",
    "    factor = np.log(A.sum()/A.min())\n",
    "    original_A = A.copy()\n",
    "    A = A.copy() / A.sum()\n",
    "    n, m = A.shape\n",
    "    x = np.zeros(n)\n",
    "    y = np.zeros(m)\n",
    "#     xs = [x.copy()]\n",
    "#     ys = [y.copy()]\n",
    "#     As = [A.copy()]\n",
    "    pbar = tqdm(total=int(4 * (epsilon ** -2) * factor))\n",
    "    dists = []\n",
    "    kldiffs = []\n",
    "    while dist(A, a, b) > epsilon:\n",
    "        dists.append(dist(A, a, b))\n",
    "        \n",
    "        pbar.update(1)\n",
    "        print(A.sum(axis=0), A.sum(axis=1))\n",
    "        time.sleep(.1)\n",
    "        k += 1\n",
    "        if k % 2 != 0:\n",
    "            dx = np.log(a / A.sum(axis=1))\n",
    "            x = x + dx\n",
    "#             xs.append(x.copy())\n",
    "#             ys.append(y.copy())\n",
    "        else:\n",
    "            dy = np.log(b / A.sum(axis=0))\n",
    "            y = y + dy\n",
    "#             xs.append(x.copy())\n",
    "#             ys.append(y.copy())\n",
    "        kl_diff = (a * np.log(a / A.sum(axis=1))).sum() + (b * np.log(b / A.sum(axis=0))).sum()\n",
    "        kldiffs.append(kl_diff)\n",
    "        A = np.exp(x) * A @ np.exp(y)\n",
    "#         As.append(A.copy())\n",
    "    return np.array(dists), np.array(kldiffs), A, k"
   ]
  },
  {
   "cell_type": "code",
   "execution_count": 43,
   "metadata": {},
   "outputs": [],
   "source": [
    "a = np.array([1/2, 1/2])\n",
    "b = a.copy()\n",
    "n, m = len(a), len(b)\n",
    "regularizer = .1\n",
    "cost = np.random.randn(n, m) ** 2\n",
    "A = np.exp(-cost/regularizer)"
   ]
  },
  {
   "cell_type": "code",
   "execution_count": 125,
   "metadata": {},
   "outputs": [
    {
     "data": {
      "text/plain": [
       "0.011633792925113176"
      ]
     },
     "execution_count": 125,
     "metadata": {},
     "output_type": "execute_result"
    }
   ],
   "source": [
    "(As * cost).sum()"
   ]
  },
  {
   "cell_type": "code",
   "execution_count": 126,
   "metadata": {},
   "outputs": [],
   "source": [
    "import ot"
   ]
  },
  {
   "cell_type": "code",
   "execution_count": 137,
   "metadata": {},
   "outputs": [
    {
     "data": {
      "text/plain": [
       "2.6152754080340777"
      ]
     },
     "execution_count": 137,
     "metadata": {},
     "output_type": "execute_result"
    }
   ],
   "source": [
    "potential(A, np.zeros(n), np.zeros(m), a, b)"
   ]
  },
  {
   "cell_type": "code",
   "execution_count": 150,
   "metadata": {},
   "outputs": [],
   "source": [
    "test = np.array([[5.92419577e-01,6.57674165e-02],\n",
    " [7.89681931e-14,4.54781941e-01]])"
   ]
  },
  {
   "cell_type": "code",
   "execution_count": 159,
   "metadata": {},
   "outputs": [
    {
     "data": {
      "text/plain": [
       "array([0.59241958, 0.52054936])"
      ]
     },
     "execution_count": 159,
     "metadata": {},
     "output_type": "execute_result"
    }
   ],
   "source": [
    "test.sum(axis=0)"
   ]
  },
  {
   "cell_type": "code",
   "execution_count": 155,
   "metadata": {},
   "outputs": [
    {
     "data": {
      "text/plain": [
       "array([-0.13744049,  0.04739502])"
      ]
     },
     "execution_count": 155,
     "metadata": {},
     "output_type": "execute_result"
    }
   ],
   "source": [
    "np.log(a / test.sum(axis=1)) * a "
   ]
  },
  {
   "cell_type": "code",
   "execution_count": 162,
   "metadata": {},
   "outputs": [
    {
     "data": {
      "application/vnd.jupyter.widget-view+json": {
       "model_id": "1a36293b7c584f398c8120a254ae473e",
       "version_major": 2,
       "version_minor": 0
      },
      "text/html": [
       "<p>Failed to display Jupyter Widget of type <code>HBox</code>.</p>\n",
       "<p>\n",
       "  If you're reading this message in the Jupyter Notebook or JupyterLab Notebook, it may mean\n",
       "  that the widgets JavaScript is still loading. If this message persists, it\n",
       "  likely means that the widgets JavaScript library is either not installed or\n",
       "  not enabled. See the <a href=\"https://ipywidgets.readthedocs.io/en/stable/user_install.html\">Jupyter\n",
       "  Widgets Documentation</a> for setup instructions.\n",
       "</p>\n",
       "<p>\n",
       "  If you're reading this message in another frontend (for example, a static\n",
       "  rendering on GitHub or <a href=\"https://nbviewer.jupyter.org/\">NBViewer</a>),\n",
       "  it may mean that your frontend doesn't currently support widgets.\n",
       "</p>\n"
      ],
      "text/plain": [
       "HBox(children=(IntProgress(value=0, max=1303469), HTML(value='')))"
      ]
     },
     "metadata": {},
     "output_type": "display_data"
    },
    {
     "name": "stdout",
     "output_type": "stream",
     "text": [
      "[0.3164303 0.6835697] [0.63368235 0.36631765]\n",
      "[0.2496758 0.7503242] [0.5 0.5]\n",
      "[0.39451943 0.58640206] [0.52613955 0.45478194]\n",
      "[0.59241958 0.52054936] [0.65818699 0.45478194]\n",
      "[[5.92419577e-01 6.57674165e-02]\n",
      " [7.89681931e-14 4.54781941e-01]]\n",
      "[0.75081165 0.46839395] [0.78237677 0.43682884]\n",
      "[[7.50811654e-01 3.15651147e-02]\n",
      " [2.00292785e-13 4.36828837e-01]]\n",
      "[0.60811633 0.4899437 ] [0.61779817 0.48026186]\n",
      "[[6.08116331e-01 9.68184265e-03]\n",
      " [5.81483120e-13 4.80261855e-01]]\n",
      "[0.40497262 0.54188166] [0.40800325 0.53885103]\n",
      "[0.33049968 0.56215967] [0.33166224 0.56099711]\n",
      "[0.40805188 0.5198695 ] [0.40844853 0.51947285]\n",
      "[0.61672619 0.46315633] [0.61689185 0.46299067]\n",
      "[[6.16726190e-01 1.65664089e-04]\n",
      " [3.32251247e-11 4.62990665e-01]]\n",
      "[0.75569581 0.44555039] [0.7557705  0.44547569]\n",
      "[[7.55695805e-01 7.46955321e-05]\n",
      " [8.68773911e-11 4.45475694e-01]]\n",
      "[0.61260664 0.48110724] [0.61262892 0.48108496]\n",
      "[[6.12606639e-01 2.22813213e-05]\n",
      " [2.54972248e-10 4.81084963e-01]]\n",
      "[0.40532621 0.53994959] [0.40533312 0.53994268]\n",
      "[0.33081531 0.5611745 ] [0.33081795 0.56117186]\n",
      "[0.40808526 0.51965718] [0.40808616 0.51965629]\n",
      "[0.6167858 0.4630103] [0.61678616 0.46300994]\n",
      "[[6.16785786e-01 3.75728954e-07]\n",
      " [1.46514418e-08 4.63009925e-01]]\n",
      "[0.75570704 0.44549613] [0.75570717 0.445496  ]\n",
      "[[7.55706999e-01 1.69385632e-07]\n",
      " [3.83134287e-08 4.45495962e-01]]\n",
      "[0.61261704 0.48108685] [0.61261698 0.48108691]\n"
     ]
    },
    {
     "ename": "KeyboardInterrupt",
     "evalue": "",
     "output_type": "error",
     "traceback": [
      "\u001b[0;31m---------------------------------------------------------------------------\u001b[0m",
      "\u001b[0;31mKeyboardInterrupt\u001b[0m                         Traceback (most recent call last)",
      "\u001b[0;32m<ipython-input-162-5aeb0525ca52>\u001b[0m in \u001b[0;36m<module>\u001b[0;34m()\u001b[0m\n\u001b[0;32m----> 1\u001b[0;31m \u001b[0mdists\u001b[0m\u001b[0;34m,\u001b[0m \u001b[0mkl\u001b[0m\u001b[0;34m,\u001b[0m \u001b[0mAs\u001b[0m\u001b[0;34m,\u001b[0m \u001b[0mk\u001b[0m \u001b[0;34m=\u001b[0m \u001b[0msinkhorn\u001b[0m\u001b[0;34m(\u001b[0m\u001b[0mA\u001b[0m\u001b[0;34m,\u001b[0m \u001b[0ma\u001b[0m\u001b[0;34m,\u001b[0m \u001b[0mb\u001b[0m\u001b[0;34m,\u001b[0m \u001b[0;36m.01\u001b[0m\u001b[0;34m)\u001b[0m\u001b[0;34m\u001b[0m\u001b[0m\n\u001b[0m",
      "\u001b[0;32m<ipython-input-161-73dd5e007c49>\u001b[0m in \u001b[0;36msinkhorn\u001b[0;34m(A, a, b, epsilon)\u001b[0m\n\u001b[1;32m     18\u001b[0m         \u001b[0mpbar\u001b[0m\u001b[0;34m.\u001b[0m\u001b[0mupdate\u001b[0m\u001b[0;34m(\u001b[0m\u001b[0;36m1\u001b[0m\u001b[0;34m)\u001b[0m\u001b[0;34m\u001b[0m\u001b[0m\n\u001b[1;32m     19\u001b[0m         \u001b[0mprint\u001b[0m\u001b[0;34m(\u001b[0m\u001b[0mA\u001b[0m\u001b[0;34m.\u001b[0m\u001b[0msum\u001b[0m\u001b[0;34m(\u001b[0m\u001b[0maxis\u001b[0m\u001b[0;34m=\u001b[0m\u001b[0;36m0\u001b[0m\u001b[0;34m)\u001b[0m\u001b[0;34m,\u001b[0m \u001b[0mA\u001b[0m\u001b[0;34m.\u001b[0m\u001b[0msum\u001b[0m\u001b[0;34m(\u001b[0m\u001b[0maxis\u001b[0m\u001b[0;34m=\u001b[0m\u001b[0;36m1\u001b[0m\u001b[0;34m)\u001b[0m\u001b[0;34m)\u001b[0m\u001b[0;34m\u001b[0m\u001b[0m\n\u001b[0;32m---> 20\u001b[0;31m         \u001b[0mtime\u001b[0m\u001b[0;34m.\u001b[0m\u001b[0msleep\u001b[0m\u001b[0;34m(\u001b[0m\u001b[0;36m.1\u001b[0m\u001b[0;34m)\u001b[0m\u001b[0;34m\u001b[0m\u001b[0m\n\u001b[0m\u001b[1;32m     21\u001b[0m         \u001b[0mk\u001b[0m \u001b[0;34m+=\u001b[0m \u001b[0;36m1\u001b[0m\u001b[0;34m\u001b[0m\u001b[0m\n\u001b[1;32m     22\u001b[0m         \u001b[0;32mif\u001b[0m \u001b[0mk\u001b[0m \u001b[0;34m%\u001b[0m \u001b[0;36m2\u001b[0m \u001b[0;34m!=\u001b[0m \u001b[0;36m0\u001b[0m\u001b[0;34m:\u001b[0m\u001b[0;34m\u001b[0m\u001b[0m\n",
      "\u001b[0;31mKeyboardInterrupt\u001b[0m: "
     ]
    }
   ],
   "source": [
    "dists, kl, As, k = sinkhorn(A, a, b, .01)"
   ]
  },
  {
   "cell_type": "code",
   "execution_count": 146,
   "metadata": {},
   "outputs": [
    {
     "data": {
      "text/plain": [
       "array([ 0.10947606,  0.14427377,  0.06068689, ..., -0.07243556,\n",
       "       -0.3856559 , -0.36385848])"
      ]
     },
     "execution_count": 146,
     "metadata": {},
     "output_type": "execute_result"
    }
   ],
   "source": [
    "kl"
   ]
  },
  {
   "cell_type": "code",
   "execution_count": 90,
   "metadata": {},
   "outputs": [
    {
     "ename": "AttributeError",
     "evalue": "'numpy.ndarray' object has no attribute 'diff'",
     "output_type": "error",
     "traceback": [
      "\u001b[0;31m---------------------------------------------------------------------------\u001b[0m",
      "\u001b[0;31mAttributeError\u001b[0m                            Traceback (most recent call last)",
      "\u001b[0;32m<ipython-input-90-440fe0868379>\u001b[0m in \u001b[0;36m<module>\u001b[0;34m()\u001b[0m\n\u001b[0;32m----> 1\u001b[0;31m \u001b[0mpots\u001b[0m\u001b[0;34m.\u001b[0m\u001b[0mdiff\u001b[0m\u001b[0;34m(\u001b[0m\u001b[0;34m)\u001b[0m\u001b[0;34m\u001b[0m\u001b[0m\n\u001b[0m",
      "\u001b[0;31mAttributeError\u001b[0m: 'numpy.ndarray' object has no attribute 'diff'"
     ]
    }
   ],
   "source": [
    "pots.diff()"
   ]
  },
  {
   "cell_type": "code",
   "execution_count": 134,
   "metadata": {},
   "outputs": [
    {
     "data": {
      "text/plain": [
       "[<matplotlib.lines.Line2D at 0x118ab3470>]"
      ]
     },
     "execution_count": 134,
     "metadata": {},
     "output_type": "execute_result"
    },
    {
     "data": {
      "image/png": "[encoded data removed]",
      "text/plain": [
       "<matplotlib.figure.Figure at 0x11b2dbd30>"
      ]
     },
     "metadata": {},
     "output_type": "display_data"
    }
   ],
   "source": [
    "plt.plot(dists[:1000],'.')"
   ]
  },
  {
   "cell_type": "code",
   "execution_count": 61,
   "metadata": {},
   "outputs": [
    {
     "data": {
      "text/plain": [
       "130346930.49338455"
      ]
     },
     "execution_count": 61,
     "metadata": {},
     "output_type": "execute_result"
    }
   ],
   "source": [
    "32.58673262334614 * 4 * (0.001 ** -2)"
   ]
  },
  {
   "cell_type": "code",
   "execution_count": 52,
   "metadata": {},
   "outputs": [
    {
     "data": {
      "text/plain": [
       "32.58673262334614"
      ]
     },
     "execution_count": 52,
     "metadata": {},
     "output_type": "execute_result"
    }
   ],
   "source": [
    "np.log(A.sum()/A.min())"
   ]
  },
  {
   "cell_type": "code",
   "execution_count": 62,
   "metadata": {},
   "outputs": [
    {
     "data": {
      "text/plain": [
       "130320000.0"
      ]
     },
     "execution_count": 62,
     "metadata": {},
     "output_type": "execute_result"
    }
   ],
   "source": [
    "32.58 * 4 * (.001 ** -2)"
   ]
  },
  {
   "cell_type": "code",
   "execution_count": null,
   "metadata": {},
   "outputs": [],
   "source": []
  }
 ],
 "metadata": {
  "kernelspec": {
   "display_name": "Python 3",
   "language": "python",
   "name": "python3"
  },
  "language_info": {
   "codemirror_mode": {
    "name": "ipython",
    "version": 3
   },
   "file_extension": ".py",
   "mimetype": "text/x-python",
   "name": "python",
   "nbconvert_exporter": "python",
   "pygments_lexer": "ipython3",
   "version": "3.6.3"
  }
 },
 "nbformat": 4,
 "nbformat_minor": 2
}
