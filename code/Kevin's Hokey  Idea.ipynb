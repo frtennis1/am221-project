{
 "cells": [
  {
   "cell_type": "markdown",
   "metadata": {},
   "source": [
    "# Kevin's Hokey Idea\n",
    "\n",
    "If we want the Sinkhorn conditions to hold, then maybe we can compute\n",
    "$$\\min_{u, v} ||u \\odot  (K v)  - a||^2 + ||v \\odot (K^\\top u) - b||^2.$$\n",
    "with the idea that they hold at the true optimum. This proves difficult because this function isn't convex."
   ]
  },
  {
   "cell_type": "code",
   "execution_count": 60,
   "metadata": {},
   "outputs": [],
   "source": [
    "import torch\n",
    "from torch.autograd import Variable\n",
    "from cvxopt import matrix, solvers\n",
    "from scipy.optimize import linprog"
   ]
  },
  {
   "cell_type": "code",
   "execution_count": 2,
   "metadata": {},
   "outputs": [],
   "source": [
    "from scipy.optimize import fmin"
   ]
  },
  {
   "cell_type": "code",
   "execution_count": 65,
   "metadata": {},
   "outputs": [],
   "source": [
    "from numpy.linalg import inv"
   ]
  },
  {
   "cell_type": "markdown",
   "metadata": {},
   "source": [
    "## Scipy solution without gradient"
   ]
  },
  {
   "cell_type": "code",
   "execution_count": 8,
   "metadata": {},
   "outputs": [],
   "source": [
    "n = 10\n",
    "m = 12\n",
    "eps = 1"
   ]
  },
  {
   "cell_type": "code",
   "execution_count": 38,
   "metadata": {},
   "outputs": [],
   "source": [
    "C = np.random.chisquare(1, size=(n,m))\n",
    "a = np.random.chisquare(3, size=n)\n",
    "a /= sum(a)\n",
    "b = np.random.chisquare(3, size=m)\n",
    "b /= sum(b)"
   ]
  },
  {
   "cell_type": "code",
   "execution_count": 30,
   "metadata": {},
   "outputs": [],
   "source": [
    "K  = np.exp(-C / eps)"
   ]
  },
  {
   "cell_type": "code",
   "execution_count": 31,
   "metadata": {},
   "outputs": [],
   "source": [
    "u =  np.ones(n)\n",
    "v = np.ones(m)"
   ]
  },
  {
   "cell_type": "code",
   "execution_count": 63,
   "metadata": {},
   "outputs": [
    {
     "data": {
      "text/plain": [
       "array([ 0.02018975,  0.00748149,  0.00323363,  0.00739919,  0.01381704,\n",
       "        0.0277226 ,  0.00452706,  0.02292825,  0.01311431,  0.01491322])"
      ]
     },
     "execution_count": 63,
     "metadata": {},
     "output_type": "execute_result"
    }
   ],
   "source": [
    "a / (K @ v)"
   ]
  },
  {
   "cell_type": "code",
   "execution_count": 71,
   "metadata": {},
   "outputs": [
    {
     "data": {
      "text/plain": [
       "array([ 64.55327608,  58.04005168,  67.77373027,  64.74587882,\n",
       "        60.40099904,  62.12218701,  41.89043636,  51.60651877,\n",
       "        66.20870974,  42.80512541,  35.63123405,  58.82154633])"
      ]
     },
     "execution_count": 71,
     "metadata": {},
     "output_type": "execute_result"
    }
   ],
   "source": [
    "K.T @ (u * (K @ b / a))"
   ]
  },
  {
   "cell_type": "code",
   "execution_count": 73,
   "metadata": {},
   "outputs": [
    {
     "data": {
      "text/plain": [
       "array([-25.77159526, -74.70418042, -19.76513811,  14.07008396,\n",
       "        63.82780408,  41.11591399,  11.71018601,  10.80009004,\n",
       "       -32.86870556,  33.58022834, -17.88713735,  33.0406135 ])"
      ]
     },
     "execution_count": 73,
     "metadata": {},
     "output_type": "execute_result"
    }
   ],
   "source": [
    "inv(K.T @ K) @ K.T @ (u * (K @ b / a))"
   ]
  },
  {
   "cell_type": "code",
   "execution_count": 32,
   "metadata": {},
   "outputs": [
    {
     "data": {
      "text/plain": [
       "array([ 6.78370313,  8.04539961,  6.8001308 ,  8.59432114,  9.6509563 ,\n",
       "        6.04649298,  8.58108725,  7.52588829,  5.75047756,  8.6821425 ])"
      ]
     },
     "execution_count": 32,
     "metadata": {},
     "output_type": "execute_result"
    }
   ],
   "source": [
    "K @ v"
   ]
  },
  {
   "cell_type": "code",
   "execution_count": 39,
   "metadata": {},
   "outputs": [],
   "source": [
    "def objective_f(x):\n",
    "    u = x[:n]\n",
    "    v = x[-m:]\n",
    "    return np.linalg.norm(u * (K @ v) - a)**2 + np.linalg.norm(v * (K.T @ u) - b)**2"
   ]
  },
  {
   "cell_type": "code",
   "execution_count": 50,
   "metadata": {},
   "outputs": [
    {
     "name": "stdout",
     "output_type": "stream",
     "text": [
      "Warning: Maximum number of function evaluations has been exceeded.\n",
      "Warning: Maximum number of function evaluations has been exceeded.\n",
      "Warning: Maximum number of function evaluations has been exceeded.\n",
      "Warning: Maximum number of function evaluations has been exceeded.\n",
      "Warning: Maximum number of function evaluations has been exceeded.\n",
      "Warning: Maximum number of function evaluations has been exceeded.\n",
      "Warning: Maximum number of function evaluations has been exceeded.\n",
      "Warning: Maximum number of function evaluations has been exceeded.\n",
      "Warning: Maximum number of function evaluations has been exceeded.\n",
      "Warning: Maximum number of function evaluations has been exceeded.\n"
     ]
    }
   ],
   "source": [
    "bests = [objective_f(fmin(objective_f, x0=np.random.rand(n+m))) for i in range(10)]"
   ]
  },
  {
   "cell_type": "code",
   "execution_count": 55,
   "metadata": {},
   "outputs": [
    {
     "data": {
      "text/plain": [
       "(<matplotlib.lines.Line2D at 0x11612e588>,)"
      ]
     },
     "execution_count": 55,
     "metadata": {},
     "output_type": "execute_result"
    },
    {
     "data": {
      "image/png": "[encoded data removed]",
      "text/plain": [
       "<matplotlib.figure.Figure at 0x115e4f4e0>"
      ]
     },
     "metadata": {
      "image/png": {
       "height": 293,
       "width": 422
      }
     },
     "output_type": "display_data"
    }
   ],
   "source": [
    "plt.hist(bests)\n",
    "ft_ax(title='Optimized function values', subtitle='Scipy fmin', add_box=True)"
   ]
  },
  {
   "cell_type": "markdown",
   "metadata": {},
   "source": [
    "## True  solution"
   ]
  },
  {
   "cell_type": "code",
   "execution_count": 61,
   "metadata": {},
   "outputs": [],
   "source": [
    "def opt_lp(a, b, a_vec=None, b_vec=None, C=None):\n",
    "    if C is None:\n",
    "        if len(a_vec.shape) == 1:\n",
    "            C =  np.sqrt((vecs_a[:,np.newaxis] - vecs_b)**2)\n",
    "        else:\n",
    "            distances_sq = (vecs_a[:,np.newaxis] - vecs_b)**2\n",
    "            C = np.sqrt(distances_sq.sum(-1))\n",
    "    c = C.flatten('F')\n",
    "    A = np.vstack([np.kron(np.eye(n), np.ones(m)[np.newaxis,:]),\n",
    "               np.kron(np.ones(n)[np.newaxis,:], np.eye(m))])\n",
    "    \n",
    "    c_mat = matrix(c)\n",
    "    A_mat = matrix(A[:-1,:])\n",
    "    b_mat = matrix(np.concatenate([a,b])[:-1])\n",
    "    G_mat = matrix(-np.eye(n*m))\n",
    "    h_mat = matrix(np.zeros(n*m))\n",
    "    \n",
    "    sol = solvers.lp(c_mat, G_mat, h_mat, A=A_mat, b=b_mat)\n",
    "    return sol"
   ]
  },
  {
   "cell_type": "code",
   "execution_count": 62,
   "metadata": {},
   "outputs": [
    {
     "name": "stdout",
     "output_type": "stream",
     "text": [
      "     pcost       dcost       gap    pres   dres   k/t\n",
      " 0:  1.0662e+00  1.0662e+00  4e+02  1e+01  2e+00  1e+00\n",
      " 1: -1.2647e+00 -1.3315e+00  2e+01  8e-01  2e-01  8e-03\n",
      " 2: -1.3533e-01 -1.3675e-01  2e+00  1e-01  2e-02  9e-03\n",
      " 3:  7.0627e-02  7.0418e-02  4e-01  3e-02  6e-03  3e-03\n",
      " 4:  1.0692e-01  1.0687e-01  8e-02  7e-03  2e-03  6e-04\n",
      " 5:  1.1733e-01  1.1732e-01  3e-02  3e-03  5e-04  2e-04\n",
      " 6:  1.1881e-01  1.1880e-01  1e-02  1e-03  2e-04  1e-04\n",
      " 7:  1.2068e-01  1.2068e-01  5e-04  5e-05  1e-05  4e-06\n",
      " 8:  1.2078e-01  1.2078e-01  7e-06  7e-07  1e-07  6e-08\n",
      " 9:  1.2079e-01  1.2079e-01  7e-08  7e-09  1e-09  6e-10\n",
      "Optimal solution found.\n"
     ]
    },
    {
     "data": {
      "text/plain": [
       "{'dual infeasibility': 1.495592053159577e-09,\n",
       " 'dual objective': 0.12078626645123955,\n",
       " 'dual slack': 3.7041350206675196e-09,\n",
       " 'gap': 6.953637687749926e-08,\n",
       " 'iterations': 9,\n",
       " 'primal infeasibility': 6.952655755629579e-09,\n",
       " 'primal objective': 0.12078626646224666,\n",
       " 'primal slack': 1.390736241435259e-10,\n",
       " 'relative gap': 5.756977090236541e-07,\n",
       " 'residual as dual infeasibility certificate': None,\n",
       " 'residual as primal infeasibility certificate': None,\n",
       " 's': <120x1 matrix, tc='d'>,\n",
       " 'status': 'optimal',\n",
       " 'x': <120x1 matrix, tc='d'>,\n",
       " 'y': <21x1 matrix, tc='d'>,\n",
       " 'z': <120x1 matrix, tc='d'>}"
      ]
     },
     "execution_count": 62,
     "metadata": {},
     "output_type": "execute_result"
    }
   ],
   "source": [
    "opt_lp(a=a, b=b, C=C)"
   ]
  },
  {
   "cell_type": "markdown",
   "metadata": {},
   "source": [
    "## Torch solution with autograd\n",
    "\n",
    "TODO"
   ]
  },
  {
   "cell_type": "code",
   "execution_count": null,
   "metadata": {},
   "outputs": [],
   "source": []
  }
 ],
 "metadata": {
  "kernelspec": {
   "display_name": "Python 3",
   "language": "python",
   "name": "python3"
  },
  "language_info": {
   "codemirror_mode": {
    "name": "ipython",
    "version": 3
   },
   "file_extension": ".py",
   "mimetype": "text/x-python",
   "name": "python",
   "nbconvert_exporter": "python",
   "pygments_lexer": "ipython3",
   "version": "3.6.1"
  }
 },
 "nbformat": 4,
 "nbformat_minor": 2
}
