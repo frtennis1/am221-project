{
 "cells": [
  {
   "cell_type": "code",
   "execution_count": 1,
   "metadata": {},
   "outputs": [],
   "source": [
    "from cvxopt import matrix, solvers\n",
    "from scipy.optimize import linprog"
   ]
  },
  {
   "cell_type": "code",
   "execution_count": 2,
   "metadata": {},
   "outputs": [],
   "source": [
    "a = np.array([.6, .4])\n",
    "b = np.array([.5, .4, .1])\n",
    "vecs_a = np.array([0, 3.5])\n",
    "vecs_b = np.array([1, 2, 3])"
   ]
  },
  {
   "cell_type": "code",
   "execution_count": 3,
   "metadata": {},
   "outputs": [],
   "source": [
    "n, m = len(a), len(b)"
   ]
  },
  {
   "cell_type": "code",
   "execution_count": 4,
   "metadata": {},
   "outputs": [],
   "source": [
    "C =  np.sqrt((vecs_a[:,np.newaxis] - vecs_b)**2)\n",
    "#C = np.array([[1, 2, 3], [5, 6, 7.5]], dtype=float)"
   ]
  },
  {
   "cell_type": "code",
   "execution_count": 5,
   "metadata": {},
   "outputs": [
    {
     "data": {
      "text/plain": [
       "array([[ 1. ,  2. ,  3. ],\n",
       "       [ 2.5,  1.5,  0.5]])"
      ]
     },
     "execution_count": 5,
     "metadata": {},
     "output_type": "execute_result"
    }
   ],
   "source": [
    "C"
   ]
  },
  {
   "cell_type": "code",
   "execution_count": 6,
   "metadata": {},
   "outputs": [],
   "source": [
    "c = C.flatten('F')"
   ]
  },
  {
   "cell_type": "code",
   "execution_count": 7,
   "metadata": {},
   "outputs": [],
   "source": [
    "A = np.vstack([np.kron(np.eye(n), np.ones(m)[np.newaxis,:]),\n",
    "               np.kron(np.ones(n)[np.newaxis,:], np.eye(m))])"
   ]
  },
  {
   "cell_type": "code",
   "execution_count": 8,
   "metadata": {},
   "outputs": [
    {
     "data": {
      "text/plain": [
       "4"
      ]
     },
     "execution_count": 8,
     "metadata": {},
     "output_type": "execute_result"
    }
   ],
   "source": [
    "np.linalg.linalg.matrix_rank(A[:-1,:])"
   ]
  },
  {
   "cell_type": "code",
   "execution_count": 9,
   "metadata": {},
   "outputs": [],
   "source": [
    "c_mat = matrix(c)\n",
    "A_mat = matrix(A[:-1,:])\n",
    "b_mat = matrix(np.concatenate([a,b])[:-1])\n",
    "G_mat = matrix(-np.eye(n*m))\n",
    "h_mat = matrix(np.zeros(n*m))"
   ]
  },
  {
   "cell_type": "code",
   "execution_count": 10,
   "metadata": {},
   "outputs": [
    {
     "data": {
      "text/plain": [
       "<6x1 matrix, tc='d'>"
      ]
     },
     "execution_count": 10,
     "metadata": {},
     "output_type": "execute_result"
    }
   ],
   "source": [
    "c_mat"
   ]
  },
  {
   "cell_type": "code",
   "execution_count": 11,
   "metadata": {},
   "outputs": [
    {
     "data": {
      "text/plain": [
       "<4x6 matrix, tc='d'>"
      ]
     },
     "execution_count": 11,
     "metadata": {},
     "output_type": "execute_result"
    }
   ],
   "source": [
    "A_mat"
   ]
  },
  {
   "cell_type": "code",
   "execution_count": 12,
   "metadata": {},
   "outputs": [
    {
     "data": {
      "text/plain": [
       "<6x6 matrix, tc='d'>"
      ]
     },
     "execution_count": 12,
     "metadata": {},
     "output_type": "execute_result"
    }
   ],
   "source": [
    "G_mat"
   ]
  },
  {
   "cell_type": "code",
   "execution_count": 13,
   "metadata": {},
   "outputs": [
    {
     "data": {
      "text/plain": [
       "<4x1 matrix, tc='d'>"
      ]
     },
     "execution_count": 13,
     "metadata": {},
     "output_type": "execute_result"
    }
   ],
   "source": [
    "b_mat"
   ]
  },
  {
   "cell_type": "code",
   "execution_count": 14,
   "metadata": {},
   "outputs": [
    {
     "name": "stdout",
     "output_type": "stream",
     "text": [
      "     pcost       dcost       gap    pres   dres   k/t\n",
      " 0:  1.8667e+00  1.8667e+00  2e+00  1e-16  9e-01  1e+00\n",
      " 1:  1.7017e+00  1.6024e+00  5e-01  8e-17  2e-01  1e-01\n",
      " 2:  1.7002e+00  1.6990e+00  6e-03  2e-16  2e-03  2e-03\n",
      " 3:  1.7000e+00  1.7000e+00  6e-05  1e-16  2e-05  2e-05\n",
      " 4:  1.7000e+00  1.7000e+00  6e-07  3e-16  2e-07  2e-07\n",
      " 5:  1.7000e+00  1.7000e+00  6e-09  4e-16  2e-09  2e-09\n",
      "Optimal solution found.\n"
     ]
    }
   ],
   "source": [
    "sol = solvers.lp(c_mat, G_mat, h_mat, A=A_mat, b=b_mat)"
   ]
  },
  {
   "cell_type": "code",
   "execution_count": 15,
   "metadata": {},
   "outputs": [
    {
     "data": {
      "text/plain": [
       "array([[ 1.,  1.,  1.,  0.,  0.,  0.],\n",
       "       [ 0.,  0.,  0.,  1.,  1.,  1.],\n",
       "       [ 1.,  0.,  0.,  1.,  0.,  0.],\n",
       "       [ 0.,  1.,  0.,  0.,  1.,  0.],\n",
       "       [ 0.,  0.,  1.,  0.,  0.,  1.]])"
      ]
     },
     "execution_count": 15,
     "metadata": {},
     "output_type": "execute_result"
    }
   ],
   "source": [
    "A"
   ]
  },
  {
   "cell_type": "code",
   "execution_count": 16,
   "metadata": {},
   "outputs": [
    {
     "data": {
      "text/plain": [
       "array([ 0.6,  0.4,  0.5,  0.4,  0.1])"
      ]
     },
     "execution_count": 16,
     "metadata": {},
     "output_type": "execute_result"
    }
   ],
   "source": [
    "np.concatenate([a,b])"
   ]
  },
  {
   "cell_type": "code",
   "execution_count": 17,
   "metadata": {},
   "outputs": [
    {
     "data": {
      "text/plain": [
       "array([[ 1. ,  2. ,  3. ],\n",
       "       [ 2.5,  1.5,  0.5]])"
      ]
     },
     "execution_count": 17,
     "metadata": {},
     "output_type": "execute_result"
    }
   ],
   "source": [
    "C"
   ]
  },
  {
   "cell_type": "code",
   "execution_count": 18,
   "metadata": {},
   "outputs": [
    {
     "data": {
      "text/plain": [
       "array([[ 0.33,  0.27,  0.  ],\n",
       "       [ 0.17,  0.13,  0.1 ]])"
      ]
     },
     "execution_count": 18,
     "metadata": {},
     "output_type": "execute_result"
    }
   ],
   "source": [
    "np.array(sol['x']).reshape((n,m)).round(2)"
   ]
  },
  {
   "cell_type": "code",
   "execution_count": 19,
   "metadata": {},
   "outputs": [
    {
     "data": {
      "text/plain": [
       "array([[ 0.33],\n",
       "       [ 0.27],\n",
       "       [ 0.  ],\n",
       "       [ 0.17],\n",
       "       [ 0.13],\n",
       "       [ 0.1 ]])"
      ]
     },
     "execution_count": 19,
     "metadata": {},
     "output_type": "execute_result"
    }
   ],
   "source": [
    "np.array(sol['x']).round(2)"
   ]
  },
  {
   "cell_type": "code",
   "execution_count": 20,
   "metadata": {},
   "outputs": [
    {
     "data": {
      "text/plain": [
       "<1x6 matrix, tc='d'>"
      ]
     },
     "execution_count": 20,
     "metadata": {},
     "output_type": "execute_result"
    }
   ],
   "source": [
    "matrix(np.zeros((1,n*m)))"
   ]
  },
  {
   "cell_type": "code",
   "execution_count": 21,
   "metadata": {},
   "outputs": [
    {
     "data": {
      "text/plain": [
       "<1x1 matrix, tc='d'>"
      ]
     },
     "execution_count": 21,
     "metadata": {},
     "output_type": "execute_result"
    }
   ],
   "source": [
    "matrix(np.zeros(1))"
   ]
  },
  {
   "cell_type": "code",
   "execution_count": 22,
   "metadata": {},
   "outputs": [],
   "source": [
    "def opt_lp(a, b, a_vec=None, b_vec=None, C=None):\n",
    "    if C is None:\n",
    "        if len(a_vec.shape) == 1:\n",
    "            C =  np.sqrt((vecs_a[:,np.newaxis] - vecs_b)**2)\n",
    "        else:\n",
    "            distances_sq = (vecs_a[:,np.newaxis] - vecs_b)**2\n",
    "            C = np.sqrt(distances_sq.sum(-1))\n",
    "    c = C.flatten('F')\n",
    "    A = np.vstack([np.kron(np.eye(n), np.ones(m)[np.newaxis,:]),\n",
    "               np.kron(np.ones(n)[np.newaxis,:], np.eye(m))])\n",
    "    \n",
    "    c_mat = matrix(c)\n",
    "    A_mat = matrix(A[:-1,:])\n",
    "    b_mat = matrix(np.concatenate([a,b])[:-1])\n",
    "    G_mat = matrix(-np.eye(n*m))\n",
    "    h_mat = matrix(np.zeros(n*m))\n",
    "    \n",
    "    sol = solvers.lp(c_mat, G_mat, h_mat, A=A_mat, b=b_mat)\n",
    "    return sol"
   ]
  },
  {
   "cell_type": "code",
   "execution_count": 352,
   "metadata": {},
   "outputs": [],
   "source": [
    "a_vec = np.array([[0,0], [1,1]])\n",
    "b_vec = np.array([[0,1], [1,0]])"
   ]
  },
  {
   "cell_type": "code",
   "execution_count": 358,
   "metadata": {},
   "outputs": [
    {
     "ename": "ValueError",
     "evalue": "bad axis1 argument to swapaxes",
     "output_type": "error",
     "traceback": [
      "\u001b[0;31m---------------------------------------------------------------------------\u001b[0m",
      "\u001b[0;31mValueError\u001b[0m                                Traceback (most recent call last)",
      "\u001b[0;32m<ipython-input-358-97f1da77da85>\u001b[0m in \u001b[0;36m<module>\u001b[0;34m()\u001b[0m\n\u001b[0;32m----> 1\u001b[0;31m \u001b[0mdistances_sq\u001b[0m \u001b[0;34m=\u001b[0m \u001b[0;34m(\u001b[0m\u001b[0mvecs_a\u001b[0m \u001b[0;34m-\u001b[0m \u001b[0mvecs_b\u001b[0m\u001b[0;34m.\u001b[0m\u001b[0mswapaxes\u001b[0m\u001b[0;34m(\u001b[0m\u001b[0;36m1\u001b[0m\u001b[0;34m,\u001b[0m\u001b[0;36m2\u001b[0m\u001b[0;34m)\u001b[0m\u001b[0;34m)\u001b[0m\u001b[0;34m**\u001b[0m\u001b[0;36m2\u001b[0m\u001b[0;34m\u001b[0m\u001b[0m\n\u001b[0m\u001b[1;32m      2\u001b[0m \u001b[0mC\u001b[0m \u001b[0;34m=\u001b[0m \u001b[0mnp\u001b[0m\u001b[0;34m.\u001b[0m\u001b[0msqrt\u001b[0m\u001b[0;34m(\u001b[0m\u001b[0mdistances_sq\u001b[0m\u001b[0;34m.\u001b[0m\u001b[0msum\u001b[0m\u001b[0;34m(\u001b[0m\u001b[0;34m-\u001b[0m\u001b[0;36m1\u001b[0m\u001b[0;34m)\u001b[0m\u001b[0;34m)\u001b[0m\u001b[0;34m\u001b[0m\u001b[0m\n",
      "\u001b[0;31mValueError\u001b[0m: bad axis1 argument to swapaxes"
     ]
    }
   ],
   "source": []
  },
  {
   "cell_type": "code",
   "execution_count": 355,
   "metadata": {},
   "outputs": [
    {
     "data": {
      "text/plain": [
       "array([[ 1.  ,  4.  ,  9.  ],\n",
       "       [ 6.25,  2.25,  0.25]])"
      ]
     },
     "execution_count": 355,
     "metadata": {},
     "output_type": "execute_result"
    }
   ],
   "source": [
    "distances_sq"
   ]
  },
  {
   "cell_type": "code",
   "execution_count": 349,
   "metadata": {},
   "outputs": [
    {
     "name": "stdout",
     "output_type": "stream",
     "text": [
      "     pcost       dcost       gap    pres   dres   k/t\n",
      " 0:  1.8667e+00  1.8667e+00  2e+00  1e-16  9e-01  1e+00\n",
      " 1:  1.7017e+00  1.6024e+00  5e-01  8e-17  2e-01  1e-01\n",
      " 2:  1.7002e+00  1.6990e+00  6e-03  2e-16  2e-03  2e-03\n",
      " 3:  1.7000e+00  1.7000e+00  6e-05  1e-16  2e-05  2e-05\n",
      " 4:  1.7000e+00  1.7000e+00  6e-07  3e-16  2e-07  2e-07\n",
      " 5:  1.7000e+00  1.7000e+00  6e-09  4e-16  2e-09  2e-09\n",
      "Optimal solution found.\n"
     ]
    },
    {
     "data": {
      "text/plain": [
       "{'dual infeasibility': 2.277671412534351e-09,\n",
       " 'dual objective': 1.699999998990706,\n",
       " 'dual slack': 1.54488706399777e-09,\n",
       " 'gap': 5.595562933791835e-09,\n",
       " 'iterations': 5,\n",
       " 'primal infeasibility': 4.191000011634393e-16,\n",
       " 'primal objective': 1.7000000001511417,\n",
       " 'primal slack': 7.557048828022301e-11,\n",
       " 'relative gap': 3.29150761006702e-09,\n",
       " 'residual as dual infeasibility certificate': None,\n",
       " 'residual as primal infeasibility certificate': None,\n",
       " 's': <6x1 matrix, tc='d'>,\n",
       " 'status': 'optimal',\n",
       " 'x': <6x1 matrix, tc='d'>,\n",
       " 'y': <4x1 matrix, tc='d'>,\n",
       " 'z': <6x1 matrix, tc='d'>}"
      ]
     },
     "execution_count": 349,
     "metadata": {},
     "output_type": "execute_result"
    }
   ],
   "source": [
    "opt_lp(a, b, a_vec=vecs_a, b_vec=vecs_b)"
   ]
  },
  {
   "cell_type": "code",
   "execution_count": null,
   "metadata": {},
   "outputs": [],
   "source": []
  }
 ],
 "metadata": {
  "kernelspec": {
   "display_name": "Python 3",
   "language": "python",
   "name": "python3"
  },
  "language_info": {
   "codemirror_mode": {
    "name": "ipython",
    "version": 3
   },
   "file_extension": ".py",
   "mimetype": "text/x-python",
   "name": "python",
   "nbconvert_exporter": "python",
   "pygments_lexer": "ipython3",
   "version": "3.6.1"
  }
 },
 "nbformat": 4,
 "nbformat_minor": 2
}
