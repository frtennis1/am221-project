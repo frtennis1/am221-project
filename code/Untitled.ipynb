{
 "cells": [
  {
   "cell_type": "code",
   "execution_count": 1,
   "metadata": {},
   "outputs": [],
   "source": [
    "import numpy as np"
   ]
  },
  {
   "cell_type": "code",
   "execution_count": 59,
   "metadata": {},
   "outputs": [],
   "source": [
    "from numpy.random import rand\n",
    "import matplotlib.pyplot as plt\n",
    "%matplotlib inline\n",
    "from tqdm import tqdm_notebook as tqdm"
   ]
  },
  {
   "cell_type": "code",
   "execution_count": 13,
   "metadata": {},
   "outputs": [],
   "source": [
    "n = 30"
   ]
  },
  {
   "cell_type": "code",
   "execution_count": 14,
   "metadata": {},
   "outputs": [],
   "source": [
    "a = rand(n)\n",
    "a /= sum(a)"
   ]
  },
  {
   "cell_type": "code",
   "execution_count": 15,
   "metadata": {},
   "outputs": [],
   "source": [
    "b = rand(n)\n",
    "b /= sum(b)"
   ]
  },
  {
   "cell_type": "code",
   "execution_count": 26,
   "metadata": {},
   "outputs": [],
   "source": [
    "C = rand(n,n)\n",
    "eps = .1"
   ]
  },
  {
   "cell_type": "code",
   "execution_count": 28,
   "metadata": {},
   "outputs": [],
   "source": [
    "K = np.exp(-C/eps)"
   ]
  },
  {
   "cell_type": "code",
   "execution_count": 60,
   "metadata": {},
   "outputs": [],
   "source": [
    "vs = [np.ones(n)]\n",
    "us = [None]"
   ]
  },
  {
   "cell_type": "code",
   "execution_count": 61,
   "metadata": {},
   "outputs": [
    {
     "data": {
      "application/vnd.jupyter.widget-view+json": {
       "model_id": "887d7a9898f44c4bb85cc4e8d36c76f0",
       "version_major": 2,
       "version_minor": 0
      },
      "text/html": [
       "<p>Failed to display Jupyter Widget of type <code>HBox</code>.</p>\n",
       "<p>\n",
       "  If you're reading this message in the Jupyter Notebook or JupyterLab Notebook, it may mean\n",
       "  that the widgets JavaScript is still loading. If this message persists, it\n",
       "  likely means that the widgets JavaScript library is either not installed or\n",
       "  not enabled. See the <a href=\"https://ipywidgets.readthedocs.io/en/stable/user_install.html\">Jupyter\n",
       "  Widgets Documentation</a> for setup instructions.\n",
       "</p>\n",
       "<p>\n",
       "  If you're reading this message in another frontend (for example, a static\n",
       "  rendering on GitHub or <a href=\"https://nbviewer.jupyter.org/\">NBViewer</a>),\n",
       "  it may mean that your frontend doesn't currently support widgets.\n",
       "</p>\n"
      ],
      "text/plain": [
       "HBox(children=(IntProgress(value=0, max=100000), HTML(value='')))"
      ]
     },
     "metadata": {},
     "output_type": "display_data"
    },
    {
     "name": "stderr",
     "output_type": "stream",
     "text": [
      "/Users/jiafengchen/anaconda3/lib/python3.6/site-packages/ipykernel_launcher.py:2: FutureWarning: `rcond` parameter will change to the default of machine precision times ``max(M, N)`` where M and N are the input matrix dimensions.\n",
      "To use the future default and silence this warning we advise to pass `rcond=None`, to keep using the old, explicitly pass `rcond=-1`.\n",
      "  \n",
      "/Users/jiafengchen/anaconda3/lib/python3.6/site-packages/ipykernel_launcher.py:3: FutureWarning: `rcond` parameter will change to the default of machine precision times ``max(M, N)`` where M and N are the input matrix dimensions.\n",
      "To use the future default and silence this warning we advise to pass `rcond=None`, to keep using the old, explicitly pass `rcond=-1`.\n",
      "  This is separate from the ipykernel package so we can avoid doing imports until\n"
     ]
    },
    {
     "name": "stdout",
     "output_type": "stream",
     "text": [
      "\n"
     ]
    }
   ],
   "source": [
    "for _ in tqdm(range(100000)):\n",
    "    us.append(np.linalg.lstsq(K.T, b / vs[-1])[0])\n",
    "    vs.append(np.linalg.lstsq(K, a / us[-1])[0])"
   ]
  },
  {
   "cell_type": "code",
   "execution_count": 62,
   "metadata": {},
   "outputs": [],
   "source": [
    "vs = np.array(vs)\n",
    "us = np.array(us)"
   ]
  },
  {
   "cell_type": "code",
   "execution_count": 69,
   "metadata": {},
   "outputs": [
    {
     "data": {
      "text/plain": [
       "array([0.04437383, 0.00711746, 0.02332352, 0.00419286, 0.0119137 ,\n",
       "       0.09443633, 0.04314724, 0.01004078, 0.06570835, 0.00311459,\n",
       "       0.01077642, 0.00984603, 0.02627383, 0.08817342, 0.00922215,\n",
       "       0.002258  , 0.01129502, 0.08704252, 0.01978993, 0.04182885,\n",
       "       0.00201195, 0.08026374, 0.05861544, 0.05862314, 0.05032283,\n",
       "       0.01517232, 0.03171687, 0.03129587, 0.0148423 , 0.04326074])"
      ]
     },
     "execution_count": 69,
     "metadata": {},
     "output_type": "execute_result"
    }
   ],
   "source": [
    "a"
   ]
  },
  {
   "cell_type": "code",
   "execution_count": 68,
   "metadata": {},
   "outputs": [
    {
     "data": {
      "text/plain": [
       "array([-0.01549218,  0.00878856, -0.06109505,  0.01478832,  0.03778928,\n",
       "       -1.19508227,  0.19042265, -0.00285578, -0.06018008,  0.00605768,\n",
       "        0.09277546,  0.02449756,  0.06925171,  0.55878208,  0.06813896,\n",
       "        0.0072193 ,  0.05363387,  0.33553829,  0.06529241,  0.10616745,\n",
       "       -0.01573747,  0.09978538,  0.28878362, -0.16547301,  0.03310883,\n",
       "        0.02349921, -0.20727662, -0.04948543,  0.01640731, -0.32805002])"
      ]
     },
     "execution_count": 68,
     "metadata": {},
     "output_type": "execute_result"
    }
   ],
   "source": [
    "us[-1] * (K @ vs[-2]) - a"
   ]
  },
  {
   "cell_type": "code",
   "execution_count": 37,
   "metadata": {},
   "outputs": [
    {
     "data": {
      "text/plain": [
       "\u001b[0;31mSignature:\u001b[0m \u001b[0mnp\u001b[0m\u001b[0;34m.\u001b[0m\u001b[0mlinalg\u001b[0m\u001b[0;34m.\u001b[0m\u001b[0mlstsq\u001b[0m\u001b[0;34m(\u001b[0m\u001b[0ma\u001b[0m\u001b[0;34m,\u001b[0m \u001b[0mb\u001b[0m\u001b[0;34m,\u001b[0m \u001b[0mrcond\u001b[0m\u001b[0;34m=\u001b[0m\u001b[0;34m'warn'\u001b[0m\u001b[0;34m)\u001b[0m\u001b[0;34m\u001b[0m\u001b[0m\n",
       "\u001b[0;31mDocstring:\u001b[0m\n",
       "Return the least-squares solution to a linear matrix equation.\n",
       "\n",
       "Solves the equation `a x = b` by computing a vector `x` that\n",
       "minimizes the Euclidean 2-norm `|| b - a x ||^2`.  The equation may\n",
       "be under-, well-, or over- determined (i.e., the number of\n",
       "linearly independent rows of `a` can be less than, equal to, or\n",
       "greater than its number of linearly independent columns).  If `a`\n",
       "is square and of full rank, then `x` (but for round-off error) is\n",
       "the \"exact\" solution of the equation.\n",
       "\n",
       "Parameters\n",
       "----------\n",
       "a : (M, N) array_like\n",
       "    \"Coefficient\" matrix.\n",
       "b : {(M,), (M, K)} array_like\n",
       "    Ordinate or \"dependent variable\" values. If `b` is two-dimensional,\n",
       "    the least-squares solution is calculated for each of the `K` columns\n",
       "    of `b`.\n",
       "rcond : float, optional\n",
       "    Cut-off ratio for small singular values of `a`.\n",
       "    For the purposes of rank determination, singular values are treated\n",
       "    as zero if they are smaller than `rcond` times the largest singular\n",
       "    value of `a`.\n",
       "\n",
       "    .. versionchanged:: 1.14.0\n",
       "       If not set, a FutureWarning is given. The previous default\n",
       "       of ``-1`` will use the machine precision as `rcond` parameter,\n",
       "       the new default will use the machine precision times `max(M, N)`.\n",
       "       To silence the warning and use the new default, use ``rcond=None``,\n",
       "       to keep using the old behavior, use ``rcond=-1``.\n",
       "\n",
       "Returns\n",
       "-------\n",
       "x : {(N,), (N, K)} ndarray\n",
       "    Least-squares solution. If `b` is two-dimensional,\n",
       "    the solutions are in the `K` columns of `x`.\n",
       "residuals : {(1,), (K,), (0,)} ndarray\n",
       "    Sums of residuals; squared Euclidean 2-norm for each column in\n",
       "    ``b - a*x``.\n",
       "    If the rank of `a` is < N or M <= N, this is an empty array.\n",
       "    If `b` is 1-dimensional, this is a (1,) shape array.\n",
       "    Otherwise the shape is (K,).\n",
       "rank : int\n",
       "    Rank of matrix `a`.\n",
       "s : (min(M, N),) ndarray\n",
       "    Singular values of `a`.\n",
       "\n",
       "Raises\n",
       "------\n",
       "LinAlgError\n",
       "    If computation does not converge.\n",
       "\n",
       "Notes\n",
       "-----\n",
       "If `b` is a matrix, then all array results are returned as matrices.\n",
       "\n",
       "Examples\n",
       "--------\n",
       "Fit a line, ``y = mx + c``, through some noisy data-points:\n",
       "\n",
       ">>> x = np.array([0, 1, 2, 3])\n",
       ">>> y = np.array([-1, 0.2, 0.9, 2.1])\n",
       "\n",
       "By examining the coefficients, we see that the line should have a\n",
       "gradient of roughly 1 and cut the y-axis at, more or less, -1.\n",
       "\n",
       "We can rewrite the line equation as ``y = Ap``, where ``A = [[x 1]]``\n",
       "and ``p = [[m], [c]]``.  Now use `lstsq` to solve for `p`:\n",
       "\n",
       ">>> A = np.vstack([x, np.ones(len(x))]).T\n",
       ">>> A\n",
       "array([[ 0.,  1.],\n",
       "       [ 1.,  1.],\n",
       "       [ 2.,  1.],\n",
       "       [ 3.,  1.]])\n",
       "\n",
       ">>> m, c = np.linalg.lstsq(A, y)[0]\n",
       ">>> print(m, c)\n",
       "1.0 -0.95\n",
       "\n",
       "Plot the data along with the fitted line:\n",
       "\n",
       ">>> import matplotlib.pyplot as plt\n",
       ">>> plt.plot(x, y, 'o', label='Original data', markersize=10)\n",
       ">>> plt.plot(x, m*x + c, 'r', label='Fitted line')\n",
       ">>> plt.legend()\n",
       ">>> plt.show()\n",
       "\u001b[0;31mFile:\u001b[0m      ~/anaconda3/lib/python3.6/site-packages/numpy/linalg/linalg.py\n",
       "\u001b[0;31mType:\u001b[0m      function\n"
      ]
     },
     "metadata": {},
     "output_type": "display_data"
    }
   ],
   "source": [
    "np.linalg.lstsq?"
   ]
  },
  {
   "cell_type": "code",
   "execution_count": null,
   "metadata": {},
   "outputs": [],
   "source": []
  }
 ],
 "metadata": {
  "kernelspec": {
   "display_name": "Python 3",
   "language": "python",
   "name": "python3"
  },
  "language_info": {
   "codemirror_mode": {
    "name": "ipython",
    "version": 3
   },
   "file_extension": ".py",
   "mimetype": "text/x-python",
   "name": "python",
   "nbconvert_exporter": "python",
   "pygments_lexer": "ipython3",
   "version": "3.6.3"
  }
 },
 "nbformat": 4,
 "nbformat_minor": 2
}
